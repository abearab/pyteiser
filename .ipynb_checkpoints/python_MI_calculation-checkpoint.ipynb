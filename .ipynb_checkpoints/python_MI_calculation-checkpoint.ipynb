{
 "cells": [
  {
   "cell_type": "markdown",
   "metadata": {
    "kernel": "SoS"
   },
   "source": [
    "Here I want to find a proper way to calculate mutual information in Python. THe reason for that is because I've had some problems with Python's mutual information calculations where calculations were just wrong (see the conditional_information and conditional_information_recalculate notebooks). <br>\n",
    "I really like the [infotheo](https://cran.r-project.org/web/packages/infotheo/index.html) package in R and I will use it as a gold standard for MI calculations. Here, I will use SOS notebook to directly compare the MI calculations done by several packages and/or manual scripts"
   ]
  },
  {
   "cell_type": "code",
   "execution_count": 1,
   "metadata": {
    "kernel": "SoS"
   },
   "outputs": [
    {
     "name": "stderr",
     "output_type": "stream",
     "text": [
      "Failed to start kernel \"R\". Kernel died before replying to kernel_info\n",
      "Error Message:\n",
      "Error in loadNamespace(name) : there is no package called ‘IRkernel’\n",
      "Calls: :: ... loadNamespace -> withRestarts -> withOneRestart -> doWithOneRestart\n",
      "Execution halted\n",
      "\n",
      "---------------------------------------------------------------------------\n",
      "NameError                                 Traceback (most recent call last)\n",
      "script_3839126429251065283 in <module>\n",
      "----> library(infotheo)\n",
      "\n",
      "NameError: name 'library' is not defined\n"
     ]
    }
   ],
   "source": [
    "library(infotheo)"
   ]
  },
  {
   "cell_type": "code",
   "execution_count": 1,
   "metadata": {
    "kernel": "SoS"
   },
   "outputs": [
    {
     "name": "stderr",
     "output_type": "stream",
     "text": [
      "Failed to start kernel \"R\". Kernel died before replying to kernel_info\n",
      "Error Message:\n",
      "Error in loadNamespace(name) : there is no package called ‘IRkernel’\n",
      "Calls: :: ... loadNamespace -> withRestarts -> withOneRestart -> doWithOneRestart\n",
      "Execution halted\n"
     ]
    },
    {
     "data": {
      "text/plain": [
       "2"
      ]
     },
     "execution_count": 1,
     "metadata": {},
     "output_type": "execute_result"
    }
   ],
   "source": [
    "1+1"
   ]
  },
  {
   "cell_type": "code",
   "execution_count": null,
   "metadata": {
    "kernel": "SoS"
   },
   "outputs": [],
   "source": []
  }
 ],
 "metadata": {
  "kernelspec": {
   "display_name": "SoS",
   "language": "sos",
   "name": "sos"
  },
  "language_info": {
   "codemirror_mode": "sos",
   "file_extension": ".sos",
   "mimetype": "text/x-sos",
   "name": "sos",
   "nbconvert_exporter": "sos_notebook.converter.SoS_Exporter",
   "pygments_lexer": "sos"
  },
  "sos": {
   "kernels": [
    [
     "R",
     "ir",
     "R",
     "#DCDCDA",
     ""
    ],
    [
     "SoS",
     "sos",
     "",
     "",
     "sos"
    ]
   ],
   "panel": {
    "displayed": true,
    "height": 0
   },
   "version": "0.19.9"
  }
 },
 "nbformat": 4,
 "nbformat_minor": 2
}
